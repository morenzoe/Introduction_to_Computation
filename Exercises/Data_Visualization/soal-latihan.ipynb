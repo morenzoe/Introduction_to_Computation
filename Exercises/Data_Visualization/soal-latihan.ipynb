{
 "cells": [
  {
   "cell_type": "code",
   "execution_count": null,
   "metadata": {},
   "outputs": [],
   "source": [
    "import pandas as pd\n",
    "\n",
    "# Boleh diubah\n",
    "path = \"\"\n",
    "df = pd.read_csv(path+\"covid_idn_rev2.csv\")"
   ]
  },
  {
   "cell_type": "markdown",
   "metadata": {},
   "source": [
    "## Intro\n",
    "Kamu adalah seorang pengamat pandemi Covid-19 di Indonesia. Hari ini, terakhir kalinya, kamu mendapatkan tugas dari Tuan Mor. Tugasnya adalah untuk mencari insight dari data Covid-19 di Indonesia melalui angka kasus, angka kematian, dan lain-lain. Tugas tersebut dibagi menjadi 3 tahap, yaitu problem 1, problem 2, dan problem 3. Kamu cukup menjawab pertanyaan yang sudah dikumpulkan Tuan Mor di bawah ini.\n",
    "\n",
    "#### Note\n",
    "Kalau markdown-nya kepencet, di-run aja cell-nya biar balik lagi :D"
   ]
  },
  {
   "cell_type": "markdown",
   "metadata": {},
   "source": [
    "# Deskripsi Data\n",
    "Diberikan data kasus Covid-19 di Indonesia dengan nama file covid_idn_rev2.csv.\n",
    "\n",
    "Deskripsi kolom:\n",
    "* Date: Tanggal\n",
    "* New Cases: Jumlah kasus baru pada hari tersebut\n",
    "* New Deaths: Jumlah kasus kematian pada hari tersebut\n",
    "* New Recovered: Jumlah kasus sembuh pada hari tersebut\n",
    "* New Active Cases: Jumlah kasus aktif pada hari tersebut (New Cases - New Recovered)\n",
    "* Total Cases: Jumlah kasus positif kumulatif\n",
    "* Total Deaths: Jumlah kasus kematian kumulatif\n",
    "* Total Recovered: Jumlah kasus sembuh kumulatif\n",
    "* Total Active Cases: Jumlah kasus aktif kumulatif\n",
    "* Province: Letak kasus tersebut di provinsi di Indonesia\n",
    "* Island: Letak pulau dari provinsi tersebut"
   ]
  },
  {
   "cell_type": "markdown",
   "metadata": {},
   "source": [
    "# Problem 1: Eksplorasi Data\n",
    "Tentukan:"
   ]
  },
  {
   "cell_type": "markdown",
   "metadata": {},
   "source": [
    "### 1. Banyaknya data."
   ]
  },
  {
   "cell_type": "code",
   "execution_count": null,
   "metadata": {},
   "outputs": [],
   "source": [
    "# Jawaban nomor 1\n"
   ]
  },
  {
   "cell_type": "markdown",
   "metadata": {},
   "source": [
    "### 2. Lima data pertama dan lima data terakhir."
   ]
  },
  {
   "cell_type": "code",
   "execution_count": null,
   "metadata": {},
   "outputs": [],
   "source": [
    "# Jawaban nomor 2\n"
   ]
  },
  {
   "cell_type": "markdown",
   "metadata": {},
   "source": [
    "### 3. Data ke-100 sampai ke-120 (inklusif)."
   ]
  },
  {
   "cell_type": "code",
   "execution_count": null,
   "metadata": {},
   "outputs": [],
   "source": [
    "# Jawaban nomor 3\n"
   ]
  },
  {
   "cell_type": "markdown",
   "metadata": {},
   "source": [
    "### 4. Tentukan:"
   ]
  },
  {
   "cell_type": "markdown",
   "metadata": {},
   "source": [
    "#### 4a. Banyaknya data total kasus untuk masing-masing provinsi (tidak perlu diurutkan nilainya)."
   ]
  },
  {
   "cell_type": "code",
   "execution_count": null,
   "metadata": {},
   "outputs": [],
   "source": [
    "# Jawaban nomor 4a\n"
   ]
  },
  {
   "cell_type": "markdown",
   "metadata": {},
   "source": [
    "#### 4b. Sama seperti sebelumnya, tetapi urutkan dari banyak data yang paling sedikit."
   ]
  },
  {
   "cell_type": "code",
   "execution_count": null,
   "metadata": {},
   "outputs": [],
   "source": [
    "# Jawaban nomor 4b\n"
   ]
  },
  {
   "cell_type": "markdown",
   "metadata": {},
   "source": [
    "### 5. Korelasi"
   ]
  },
  {
   "cell_type": "markdown",
   "metadata": {},
   "source": [
    "#### 5a. Apa korelasi antara kasus baru dengan kasus sembuh baru? (Tuliskan angkanya dan jelaskan: berbanding lurus, berbanding terbalik, atau tidak ada korelasi)"
   ]
  },
  {
   "cell_type": "code",
   "execution_count": null,
   "metadata": {
    "scrolled": true
   },
   "outputs": [],
   "source": [
    "# Jawaban nomor 5a\n"
   ]
  },
  {
   "cell_type": "markdown",
   "metadata": {},
   "source": [
    "#### 5b. Apa korelasi antara kasus baru dengan kasus kematian baru?"
   ]
  },
  {
   "cell_type": "code",
   "execution_count": null,
   "metadata": {},
   "outputs": [],
   "source": [
    "# Jawaban nomor 5b\n"
   ]
  },
  {
   "cell_type": "markdown",
   "metadata": {},
   "source": [
    "#### 5c. Nilai korelasi mana yang lebih tinggi? Jelaskan terkait hal ini."
   ]
  },
  {
   "cell_type": "code",
   "execution_count": null,
   "metadata": {},
   "outputs": [],
   "source": [
    "# Jawaban nomor 5c\n"
   ]
  },
  {
   "cell_type": "markdown",
   "metadata": {},
   "source": [
    "# Problem 2: Eksplorasi Data Lebih Lanjut\n",
    "Tentukan:"
   ]
  },
  {
   "cell_type": "markdown",
   "metadata": {},
   "source": [
    "### 1. Data untuk"
   ]
  },
  {
   "cell_type": "markdown",
   "metadata": {},
   "source": [
    "#### 1a. Provinsi Jawa Barat dan Jawa Timur pada tanggal 30 September 2020"
   ]
  },
  {
   "cell_type": "code",
   "execution_count": null,
   "metadata": {},
   "outputs": [],
   "source": [
    "# Jawaban nomor 1a\n"
   ]
  },
  {
   "cell_type": "markdown",
   "metadata": {},
   "source": [
    "#### 1b. Total kasus pada Pulau Jawa tanggal 1 Oktober 2020"
   ]
  },
  {
   "cell_type": "code",
   "execution_count": null,
   "metadata": {},
   "outputs": [],
   "source": [
    "# Jawaban nomor 1b\n"
   ]
  },
  {
   "cell_type": "markdown",
   "metadata": {},
   "source": [
    "### 2. Per 11 Desember, provinsi mana yang mempunyai: "
   ]
  },
  {
   "cell_type": "markdown",
   "metadata": {},
   "source": [
    "#### 2a. Kasus total tersedikit?"
   ]
  },
  {
   "cell_type": "code",
   "execution_count": null,
   "metadata": {},
   "outputs": [],
   "source": [
    "# Jawaban nomor 2a\n"
   ]
  },
  {
   "cell_type": "markdown",
   "metadata": {},
   "source": [
    "#### 2b. Kasus total terbanyak?"
   ]
  },
  {
   "cell_type": "code",
   "execution_count": null,
   "metadata": {},
   "outputs": [],
   "source": [
    "# Jawaban nomor 2b\n"
   ]
  },
  {
   "cell_type": "markdown",
   "metadata": {},
   "source": [
    "### 3. Kapan saat pertama kali seluruh provinsi di Indonesia mempunyai kasus aktif? "
   ]
  },
  {
   "cell_type": "code",
   "execution_count": null,
   "metadata": {},
   "outputs": [],
   "source": [
    "# Jawaban nomor 3\n"
   ]
  },
  {
   "cell_type": "markdown",
   "metadata": {},
   "source": [
    "### 4. Apa provinsi yang paling akhir mempunyai kasus pertama?"
   ]
  },
  {
   "cell_type": "code",
   "execution_count": null,
   "metadata": {},
   "outputs": [],
   "source": [
    "# Jawaban nomor 4\n"
   ]
  },
  {
   "cell_type": "markdown",
   "metadata": {},
   "source": [
    "### 5. Per tanggal 31 Maret 2020, provinsi mana saja yang sudah mempunyai kasus kematian?"
   ]
  },
  {
   "cell_type": "code",
   "execution_count": null,
   "metadata": {},
   "outputs": [],
   "source": [
    "# Jawaban nomor 5\n"
   ]
  },
  {
   "cell_type": "markdown",
   "metadata": {},
   "source": [
    "### 6. Rata-rata kasus Covid-19 per 11 Desember 2020, serta standar deviasinya"
   ]
  },
  {
   "cell_type": "code",
   "execution_count": null,
   "metadata": {},
   "outputs": [],
   "source": [
    "# Jawaban nomor 6\n"
   ]
  },
  {
   "cell_type": "markdown",
   "metadata": {},
   "source": [
    "### 7. Bonus: Pada tanggal berapa Indonesia mempunyai kasus positif baru tertinggi?"
   ]
  },
  {
   "cell_type": "code",
   "execution_count": null,
   "metadata": {},
   "outputs": [],
   "source": [
    "# Jawaban nomor 7\n"
   ]
  },
  {
   "cell_type": "markdown",
   "metadata": {},
   "source": [
    "# Problem 3: Visualisasi Data\n",
    "Visualisasi seringkali digunakan untuk memahami data secara cepat dan intuitif. Agar klienmu dapat memahami data pandemi ini dengan cepat, tentukan/visualisasikan:"
   ]
  },
  {
   "cell_type": "markdown",
   "metadata": {},
   "source": [
    "### 1. Histogram untuk total kasus di Indonesia pada tanggal 11 September 2020"
   ]
  },
  {
   "cell_type": "code",
   "execution_count": null,
   "metadata": {},
   "outputs": [],
   "source": [
    "# Jawaban nomor 1\n"
   ]
  },
  {
   "cell_type": "markdown",
   "metadata": {},
   "source": [
    "### 2. Multiple line chart untuk kasus total & kasus aktif di DKI Jakarta"
   ]
  },
  {
   "cell_type": "code",
   "execution_count": null,
   "metadata": {},
   "outputs": [],
   "source": [
    "# Jawaban nomor 2\n"
   ]
  },
  {
   "cell_type": "markdown",
   "metadata": {},
   "source": [
    "### 3. Buatlah pie chart berisi total kasus untuk pulau-pulau di Indonesia pada tanggal 18 Agustus 2020"
   ]
  },
  {
   "cell_type": "code",
   "execution_count": null,
   "metadata": {},
   "outputs": [],
   "source": [
    "# Jawaban nomor 3\n"
   ]
  },
  {
   "cell_type": "markdown",
   "metadata": {},
   "source": [
    "### 4. Buatlah scatter plot untuk total kasus (sebagai x) dan total kasus kematian (sebagai y) pada Provinsi Jawa Timur"
   ]
  },
  {
   "cell_type": "code",
   "execution_count": null,
   "metadata": {},
   "outputs": [],
   "source": [
    "# Jawaban nomor 4\n"
   ]
  },
  {
   "cell_type": "markdown",
   "metadata": {},
   "source": [
    "### 5. Bar chart untuk membandingkan kasus aktif dan kasus kematian pada pulau-pulau di Indonesia tanggal 11 Desember 2020"
   ]
  },
  {
   "cell_type": "code",
   "execution_count": null,
   "metadata": {},
   "outputs": [],
   "source": [
    "# Jawaban nomor 5\n"
   ]
  },
  {
   "cell_type": "markdown",
   "metadata": {},
   "source": [
    "### 6. Bonus! Buatlah area chart untuk Provinsi Jawa Barat"
   ]
  },
  {
   "cell_type": "code",
   "execution_count": null,
   "metadata": {},
   "outputs": [],
   "source": [
    "# Jawaban nomor 6\n"
   ]
  },
  {
   "cell_type": "markdown",
   "metadata": {},
   "source": [
    "Selamat! Kamu telah menyelesaikan pekerjaanmu hari ini! Kamu melaporkan data ini kepada Tuan Mor dan Tuan Mor memujimu atas usaha yang kamu keluarkan. Feel free to give yourself a pat on your back :)"
   ]
  }
 ],
 "metadata": {
  "kernelspec": {
   "display_name": "Python 3",
   "language": "python",
   "name": "python3"
  },
  "language_info": {
   "codemirror_mode": {
    "name": "ipython",
    "version": 3
   },
   "file_extension": ".py",
   "mimetype": "text/x-python",
   "name": "python",
   "nbconvert_exporter": "python",
   "pygments_lexer": "ipython3",
   "version": "3.8.3"
  }
 },
 "nbformat": 4,
 "nbformat_minor": 4
}
